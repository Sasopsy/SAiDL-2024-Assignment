{
 "cells": [
  {
   "cell_type": "code",
   "execution_count": 7,
   "metadata": {},
   "outputs": [],
   "source": [
    "from datasets import load_dataset\n",
    "\n",
    "conll_dataset = load_dataset(\"conll2003\")"
   ]
  },
  {
   "cell_type": "code",
   "execution_count": 8,
   "metadata": {},
   "outputs": [],
   "source": [
    "GLOVE_FILEPATH = 'glove.6B/glove.6B.50d.txt'\n",
    "EMBEDDING_DIM = 50"
   ]
  },
  {
   "cell_type": "code",
   "execution_count": 9,
   "metadata": {},
   "outputs": [
    {
     "name": "stdout",
     "output_type": "stream",
     "text": [
      "Max sequence length in train set: 113\n",
      "Max sequence length in validation set: 109\n",
      "Max sequence length in test set: 124\n"
     ]
    }
   ],
   "source": [
    "# Code to find max length.\n",
    "def find_max(dataset,type='train'):\n",
    "    lengths = []\n",
    "    for i in range(len(dataset[type])):\n",
    "        lengths.append(len(dataset[type][i]['tokens']))\n",
    "    return max(lengths)\n",
    "\n",
    "print(f'Max sequence length in train set: {find_max(conll_dataset,\"train\")}')\n",
    "print(f'Max sequence length in validation set: {find_max(conll_dataset,\"validation\")}')\n",
    "print(f'Max sequence length in test set: {find_max(conll_dataset,\"test\")}')"
   ]
  },
  {
   "cell_type": "code",
   "execution_count": 10,
   "metadata": {},
   "outputs": [
    {
     "name": "stdout",
     "output_type": "stream",
     "text": [
      "Total vocab size: 26869\n"
     ]
    }
   ],
   "source": [
    "# Create a set of tokens\n",
    "def create_set(dataset,type='train'):\n",
    "    corpus = []\n",
    "    for i in range(len(dataset[type])):\n",
    "        corpus += dataset[type][i]['tokens']\n",
    "    return set(corpus)\n",
    "\n",
    "set_train = create_set(conll_dataset,'train')\n",
    "set_test = create_set(conll_dataset,'test')\n",
    "set_validation = create_set(conll_dataset,'validation')\n",
    "\n",
    "setTokens = set.union(set_train,set_test,set_validation)\n",
    "\n",
    "setTokens = set(map(lambda x: x.lower(),setTokens))\n",
    "\n",
    "setTokens = list(setTokens)\n",
    "print(f\"Total vocab size: {len(setTokens)}\")"
   ]
  },
  {
   "cell_type": "code",
   "execution_count": 11,
   "metadata": {},
   "outputs": [
    {
     "name": "stdout",
     "output_type": "stream",
     "text": [
      "Vocab size after non-glove tokens are removed and unknown and padding token are added: 23432\n"
     ]
    }
   ],
   "source": [
    "# Remove all the tokens not in glove embeddings\n",
    "\n",
    "# Store all glove words.\n",
    "glove_words = []\n",
    "# Iterate through file storing glove words.\n",
    "f = open(GLOVE_FILEPATH, encoding=\"utf-8\")\n",
    "for line in f:\n",
    "  values = line.strip().split(' ')\n",
    "  word = values[0]\n",
    "  glove_words.append(word)\n",
    "f.close()\n",
    "\n",
    "# Iterate over setTokens and remove tokens not in glove.\n",
    "for token in setTokens:\n",
    "  if token not in glove_words:\n",
    "    setTokens.remove(token)\n",
    "\n",
    "# We assign index 0 for padding token and 1 for unknown token.\n",
    "setTokens[0] = '<PAD>'\n",
    "setTokens[1] = '<UNK>'\n",
    "\n",
    "print(f'Vocab size after non-glove tokens are removed and unknown and padding token are added: {len(setTokens)}')"
   ]
  },
  {
   "cell_type": "code",
   "execution_count": 13,
   "metadata": {},
   "outputs": [
    {
     "data": {
      "text/plain": [
       "(23432, 23432)"
      ]
     },
     "execution_count": 13,
     "metadata": {},
     "output_type": "execute_result"
    }
   ],
   "source": [
    "# Create tokentoidx and idxtotoken dictionary \n",
    "token2idx = {}\n",
    "for idx,word in enumerate(setTokens):\n",
    "    token2idx.update({word:idx}) \n",
    "\n",
    "idx2token = {v:k for k,v in token2idx.items()}\n",
    "\n",
    "len(token2idx), len(idx2token)"
   ]
  },
  {
   "cell_type": "markdown",
   "metadata": {},
   "source": [
    "# Create Embedding Matrix"
   ]
  },
  {
   "cell_type": "code",
   "execution_count": 2,
   "metadata": {},
   "outputs": [],
   "source": [
    "import torch\n",
    "import torch.nn as nn\n",
    "import numpy as np\n",
    "import pickle\n",
    "import os"
   ]
  },
  {
   "cell_type": "code",
   "execution_count": 8,
   "metadata": {},
   "outputs": [],
   "source": [
    "# Create Embedding matrix\n",
    "embedding = nn.Embedding(len(token2idx),EMBEDDING_DIM)\n",
    "for params in embedding.parameters():\n",
    "    params.requires_grad = False"
   ]
  },
  {
   "cell_type": "code",
   "execution_count": 9,
   "metadata": {},
   "outputs": [],
   "source": [
    "# Set padding and unknown embeddings.\n",
    "\n",
    "# Set 0'th index as padding\n",
    "embedding.weight[0] = torch.zeros((EMBEDDING_DIM))\n",
    "# Set 1st index and unknown weight of glove\n",
    "with open(GLOVE_FILEPATH) as f:\n",
    "    for line in f:\n",
    "        values = line.strip().split(' ')\n",
    "unknown_vec = np.asarray(values[1:], dtype='float32')\n",
    "unknown_vec = torch.from_numpy(unknown_vec)\n",
    "embedding.weight[1] = unknown_vec"
   ]
  },
  {
   "cell_type": "code",
   "execution_count": 12,
   "metadata": {},
   "outputs": [],
   "source": [
    "# Create final embedding matrix.\n",
    "with open(GLOVE_FILEPATH) as f:\n",
    "    count = 0\n",
    "    for line in f:\n",
    "        values = line.strip().split(' ')\n",
    "        word = values[0]\n",
    "        vec = np.asarray(values[1:], dtype='float32')\n",
    "        vec = torch.from_numpy(vec)\n",
    "        if word in token2idx:\n",
    "            idx = token2idx[word]\n",
    "            embedding.weight[idx] = vec\n",
    "            count+=1"
   ]
  },
  {
   "cell_type": "code",
   "execution_count": 15,
   "metadata": {},
   "outputs": [],
   "source": [
    "torch.save(embedding.state_dict(),f'conll-assets/conll.glove.6B.{EMBEDDING_DIM}d.pt')\n",
    "# Save idxtotoken and tokentoidx\n",
    "with open('conll-assets/token2idx.pkl', 'wb') as file:\n",
    "    pickle.dump(token2idx, file)\n",
    "with open('conll-assets/idx2token.pkl', 'wb') as file:\n",
    "    pickle.dump(idx2token, file)"
   ]
  }
 ],
 "metadata": {
  "kernelspec": {
   "display_name": "pytorch",
   "language": "python",
   "name": "python3"
  },
  "language_info": {
   "codemirror_mode": {
    "name": "ipython",
    "version": 3
   },
   "file_extension": ".py",
   "mimetype": "text/x-python",
   "name": "python",
   "nbconvert_exporter": "python",
   "pygments_lexer": "ipython3",
   "version": "3.10.13"
  },
  "orig_nbformat": 4
 },
 "nbformat": 4,
 "nbformat_minor": 2
}
