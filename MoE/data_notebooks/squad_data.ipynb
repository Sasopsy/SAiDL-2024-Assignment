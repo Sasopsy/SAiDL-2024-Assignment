{
 "cells": [
  {
   "cell_type": "code",
   "execution_count": 1,
   "metadata": {},
   "outputs": [],
   "source": [
    "import json\n",
    "import pandas as pd\n",
    "import re"
   ]
  },
  {
   "cell_type": "code",
   "execution_count": 2,
   "metadata": {},
   "outputs": [],
   "source": [
    "GLOVE_FILEPATH = 'glove.6B/glove.6B.50d.txt'\n",
    "EMBEDDING_DIM = 50\n",
    "THRESHOLD_CONTEXT_LENGTH = 256\n",
    "THRESHOLD_QUESTION_LENGTH = 256"
   ]
  },
  {
   "cell_type": "code",
   "execution_count": 3,
   "metadata": {},
   "outputs": [],
   "source": [
    "\n",
    "def squad_json_to_dataframe(input_file_path):\n",
    "    # Load the JSON file\n",
    "    with open(input_file_path, 'r') as f:\n",
    "        squad_data = json.load(f)\n",
    "\n",
    "    # Initialize empty lists to store rows\n",
    "    contexts = []\n",
    "    questions = []\n",
    "    answers_text = []\n",
    "    answers_start = []\n",
    "    ids = []\n",
    "\n",
    "    # Iterate through the entries in the JSON file\n",
    "    for article in squad_data['data']:\n",
    "        for paragraph in article['paragraphs']:\n",
    "            context = paragraph['context']\n",
    "            for qa in paragraph['qas']:\n",
    "                question = qa['question']\n",
    "                qid = qa['id']\n",
    "                # Each question might have multiple answers\n",
    "                # SQuAD v1.1 has one answer per question, but handling multiple answers per question is straightforward\n",
    "                for answer in qa['answers']:\n",
    "                    answers_text.append(answer['text'])\n",
    "                    answers_start.append(answer['answer_start'])\n",
    "                    questions.append(question)\n",
    "                    contexts.append(context)\n",
    "                    ids.append(qid)\n",
    "\n",
    "    # Create a DataFrame\n",
    "    df = pd.DataFrame({\n",
    "        'id': ids,\n",
    "        'context': contexts,\n",
    "        'question': questions,\n",
    "        'answer_text': answers_text,\n",
    "        'answer_start': answers_start\n",
    "    })\n",
    "\n",
    "    return df"
   ]
  },
  {
   "cell_type": "code",
   "execution_count": 4,
   "metadata": {},
   "outputs": [],
   "source": [
    "def tokenize_corpus(corpus):\n",
    "    \n",
    "    # Regex pattern for word tokenization, keeping punctuations separate\n",
    "    pattern = r'\\w+|[^\\w\\s]'\n",
    "    \n",
    "    # Find all matches of the pattern\n",
    "    tokens = re.findall(pattern, corpus)\n",
    "    \n",
    "    return tokens"
   ]
  },
  {
   "cell_type": "code",
   "execution_count": 5,
   "metadata": {},
   "outputs": [],
   "source": [
    "train_squad_df = squad_json_to_dataframe('extras/train-v1.1.json')\n",
    "dev_squad_df = squad_json_to_dataframe('extras/dev-v1.1.json')"
   ]
  },
  {
   "cell_type": "markdown",
   "metadata": {},
   "source": [
    "# Data Pre-processing"
   ]
  },
  {
   "cell_type": "code",
   "execution_count": 6,
   "metadata": {},
   "outputs": [],
   "source": [
    "train_squad_df['context_tokens'] = train_squad_df['context'].map(tokenize_corpus)\n",
    "train_squad_df['question_tokens'] = train_squad_df['question'].map(tokenize_corpus)\n",
    "\n",
    "dev_squad_df['context_tokens'] = dev_squad_df['context'].map(tokenize_corpus)\n",
    "dev_squad_df['question_tokens'] = dev_squad_df['question'].map(tokenize_corpus)"
   ]
  },
  {
   "cell_type": "code",
   "execution_count": 7,
   "metadata": {},
   "outputs": [
    {
     "data": {
      "text/html": [
       "<div>\n",
       "<style scoped>\n",
       "    .dataframe tbody tr th:only-of-type {\n",
       "        vertical-align: middle;\n",
       "    }\n",
       "\n",
       "    .dataframe tbody tr th {\n",
       "        vertical-align: top;\n",
       "    }\n",
       "\n",
       "    .dataframe thead th {\n",
       "        text-align: right;\n",
       "    }\n",
       "</style>\n",
       "<table border=\"1\" class=\"dataframe\">\n",
       "  <thead>\n",
       "    <tr style=\"text-align: right;\">\n",
       "      <th></th>\n",
       "      <th>id</th>\n",
       "      <th>context</th>\n",
       "      <th>question</th>\n",
       "      <th>answer_text</th>\n",
       "      <th>answer_start</th>\n",
       "      <th>context_tokens</th>\n",
       "      <th>question_tokens</th>\n",
       "    </tr>\n",
       "  </thead>\n",
       "  <tbody>\n",
       "    <tr>\n",
       "      <th>0</th>\n",
       "      <td>5733be284776f41900661182</td>\n",
       "      <td>Architecturally, the school has a Catholic cha...</td>\n",
       "      <td>To whom did the Virgin Mary allegedly appear i...</td>\n",
       "      <td>Saint Bernadette Soubirous</td>\n",
       "      <td>515</td>\n",
       "      <td>[Architecturally, ,, the, school, has, a, Cath...</td>\n",
       "      <td>[To, whom, did, the, Virgin, Mary, allegedly, ...</td>\n",
       "    </tr>\n",
       "    <tr>\n",
       "      <th>1</th>\n",
       "      <td>5733be284776f4190066117f</td>\n",
       "      <td>Architecturally, the school has a Catholic cha...</td>\n",
       "      <td>What is in front of the Notre Dame Main Building?</td>\n",
       "      <td>a copper statue of Christ</td>\n",
       "      <td>188</td>\n",
       "      <td>[Architecturally, ,, the, school, has, a, Cath...</td>\n",
       "      <td>[What, is, in, front, of, the, Notre, Dame, Ma...</td>\n",
       "    </tr>\n",
       "    <tr>\n",
       "      <th>2</th>\n",
       "      <td>5733be284776f41900661180</td>\n",
       "      <td>Architecturally, the school has a Catholic cha...</td>\n",
       "      <td>The Basilica of the Sacred heart at Notre Dame...</td>\n",
       "      <td>the Main Building</td>\n",
       "      <td>279</td>\n",
       "      <td>[Architecturally, ,, the, school, has, a, Cath...</td>\n",
       "      <td>[The, Basilica, of, the, Sacred, heart, at, No...</td>\n",
       "    </tr>\n",
       "    <tr>\n",
       "      <th>3</th>\n",
       "      <td>5733be284776f41900661181</td>\n",
       "      <td>Architecturally, the school has a Catholic cha...</td>\n",
       "      <td>What is the Grotto at Notre Dame?</td>\n",
       "      <td>a Marian place of prayer and reflection</td>\n",
       "      <td>381</td>\n",
       "      <td>[Architecturally, ,, the, school, has, a, Cath...</td>\n",
       "      <td>[What, is, the, Grotto, at, Notre, Dame, ?]</td>\n",
       "    </tr>\n",
       "    <tr>\n",
       "      <th>4</th>\n",
       "      <td>5733be284776f4190066117e</td>\n",
       "      <td>Architecturally, the school has a Catholic cha...</td>\n",
       "      <td>What sits on top of the Main Building at Notre...</td>\n",
       "      <td>a golden statue of the Virgin Mary</td>\n",
       "      <td>92</td>\n",
       "      <td>[Architecturally, ,, the, school, has, a, Cath...</td>\n",
       "      <td>[What, sits, on, top, of, the, Main, Building,...</td>\n",
       "    </tr>\n",
       "  </tbody>\n",
       "</table>\n",
       "</div>"
      ],
      "text/plain": [
       "                         id  \\\n",
       "0  5733be284776f41900661182   \n",
       "1  5733be284776f4190066117f   \n",
       "2  5733be284776f41900661180   \n",
       "3  5733be284776f41900661181   \n",
       "4  5733be284776f4190066117e   \n",
       "\n",
       "                                             context  \\\n",
       "0  Architecturally, the school has a Catholic cha...   \n",
       "1  Architecturally, the school has a Catholic cha...   \n",
       "2  Architecturally, the school has a Catholic cha...   \n",
       "3  Architecturally, the school has a Catholic cha...   \n",
       "4  Architecturally, the school has a Catholic cha...   \n",
       "\n",
       "                                            question  \\\n",
       "0  To whom did the Virgin Mary allegedly appear i...   \n",
       "1  What is in front of the Notre Dame Main Building?   \n",
       "2  The Basilica of the Sacred heart at Notre Dame...   \n",
       "3                  What is the Grotto at Notre Dame?   \n",
       "4  What sits on top of the Main Building at Notre...   \n",
       "\n",
       "                               answer_text  answer_start  \\\n",
       "0               Saint Bernadette Soubirous           515   \n",
       "1                a copper statue of Christ           188   \n",
       "2                        the Main Building           279   \n",
       "3  a Marian place of prayer and reflection           381   \n",
       "4       a golden statue of the Virgin Mary            92   \n",
       "\n",
       "                                      context_tokens  \\\n",
       "0  [Architecturally, ,, the, school, has, a, Cath...   \n",
       "1  [Architecturally, ,, the, school, has, a, Cath...   \n",
       "2  [Architecturally, ,, the, school, has, a, Cath...   \n",
       "3  [Architecturally, ,, the, school, has, a, Cath...   \n",
       "4  [Architecturally, ,, the, school, has, a, Cath...   \n",
       "\n",
       "                                     question_tokens  \n",
       "0  [To, whom, did, the, Virgin, Mary, allegedly, ...  \n",
       "1  [What, is, in, front, of, the, Notre, Dame, Ma...  \n",
       "2  [The, Basilica, of, the, Sacred, heart, at, No...  \n",
       "3        [What, is, the, Grotto, at, Notre, Dame, ?]  \n",
       "4  [What, sits, on, top, of, the, Main, Building,...  "
      ]
     },
     "execution_count": 7,
     "metadata": {},
     "output_type": "execute_result"
    }
   ],
   "source": [
    "train_squad_df.head()"
   ]
  },
  {
   "cell_type": "code",
   "execution_count": 8,
   "metadata": {},
   "outputs": [
    {
     "data": {
      "text/html": [
       "<div>\n",
       "<style scoped>\n",
       "    .dataframe tbody tr th:only-of-type {\n",
       "        vertical-align: middle;\n",
       "    }\n",
       "\n",
       "    .dataframe tbody tr th {\n",
       "        vertical-align: top;\n",
       "    }\n",
       "\n",
       "    .dataframe thead th {\n",
       "        text-align: right;\n",
       "    }\n",
       "</style>\n",
       "<table border=\"1\" class=\"dataframe\">\n",
       "  <thead>\n",
       "    <tr style=\"text-align: right;\">\n",
       "      <th></th>\n",
       "      <th>id</th>\n",
       "      <th>context</th>\n",
       "      <th>question</th>\n",
       "      <th>answer_text</th>\n",
       "      <th>answer_start</th>\n",
       "      <th>context_tokens</th>\n",
       "      <th>question_tokens</th>\n",
       "    </tr>\n",
       "  </thead>\n",
       "  <tbody>\n",
       "    <tr>\n",
       "      <th>0</th>\n",
       "      <td>56be4db0acb8001400a502ec</td>\n",
       "      <td>Super Bowl 50 was an American football game to...</td>\n",
       "      <td>Which NFL team represented the AFC at Super Bo...</td>\n",
       "      <td>Denver Broncos</td>\n",
       "      <td>177</td>\n",
       "      <td>[Super, Bowl, 50, was, an, American, football,...</td>\n",
       "      <td>[Which, NFL, team, represented, the, AFC, at, ...</td>\n",
       "    </tr>\n",
       "    <tr>\n",
       "      <th>1</th>\n",
       "      <td>56be4db0acb8001400a502ec</td>\n",
       "      <td>Super Bowl 50 was an American football game to...</td>\n",
       "      <td>Which NFL team represented the AFC at Super Bo...</td>\n",
       "      <td>Denver Broncos</td>\n",
       "      <td>177</td>\n",
       "      <td>[Super, Bowl, 50, was, an, American, football,...</td>\n",
       "      <td>[Which, NFL, team, represented, the, AFC, at, ...</td>\n",
       "    </tr>\n",
       "    <tr>\n",
       "      <th>2</th>\n",
       "      <td>56be4db0acb8001400a502ec</td>\n",
       "      <td>Super Bowl 50 was an American football game to...</td>\n",
       "      <td>Which NFL team represented the AFC at Super Bo...</td>\n",
       "      <td>Denver Broncos</td>\n",
       "      <td>177</td>\n",
       "      <td>[Super, Bowl, 50, was, an, American, football,...</td>\n",
       "      <td>[Which, NFL, team, represented, the, AFC, at, ...</td>\n",
       "    </tr>\n",
       "    <tr>\n",
       "      <th>3</th>\n",
       "      <td>56be4db0acb8001400a502ed</td>\n",
       "      <td>Super Bowl 50 was an American football game to...</td>\n",
       "      <td>Which NFL team represented the NFC at Super Bo...</td>\n",
       "      <td>Carolina Panthers</td>\n",
       "      <td>249</td>\n",
       "      <td>[Super, Bowl, 50, was, an, American, football,...</td>\n",
       "      <td>[Which, NFL, team, represented, the, NFC, at, ...</td>\n",
       "    </tr>\n",
       "    <tr>\n",
       "      <th>4</th>\n",
       "      <td>56be4db0acb8001400a502ed</td>\n",
       "      <td>Super Bowl 50 was an American football game to...</td>\n",
       "      <td>Which NFL team represented the NFC at Super Bo...</td>\n",
       "      <td>Carolina Panthers</td>\n",
       "      <td>249</td>\n",
       "      <td>[Super, Bowl, 50, was, an, American, football,...</td>\n",
       "      <td>[Which, NFL, team, represented, the, NFC, at, ...</td>\n",
       "    </tr>\n",
       "  </tbody>\n",
       "</table>\n",
       "</div>"
      ],
      "text/plain": [
       "                         id  \\\n",
       "0  56be4db0acb8001400a502ec   \n",
       "1  56be4db0acb8001400a502ec   \n",
       "2  56be4db0acb8001400a502ec   \n",
       "3  56be4db0acb8001400a502ed   \n",
       "4  56be4db0acb8001400a502ed   \n",
       "\n",
       "                                             context  \\\n",
       "0  Super Bowl 50 was an American football game to...   \n",
       "1  Super Bowl 50 was an American football game to...   \n",
       "2  Super Bowl 50 was an American football game to...   \n",
       "3  Super Bowl 50 was an American football game to...   \n",
       "4  Super Bowl 50 was an American football game to...   \n",
       "\n",
       "                                            question        answer_text  \\\n",
       "0  Which NFL team represented the AFC at Super Bo...     Denver Broncos   \n",
       "1  Which NFL team represented the AFC at Super Bo...     Denver Broncos   \n",
       "2  Which NFL team represented the AFC at Super Bo...     Denver Broncos   \n",
       "3  Which NFL team represented the NFC at Super Bo...  Carolina Panthers   \n",
       "4  Which NFL team represented the NFC at Super Bo...  Carolina Panthers   \n",
       "\n",
       "   answer_start                                     context_tokens  \\\n",
       "0           177  [Super, Bowl, 50, was, an, American, football,...   \n",
       "1           177  [Super, Bowl, 50, was, an, American, football,...   \n",
       "2           177  [Super, Bowl, 50, was, an, American, football,...   \n",
       "3           249  [Super, Bowl, 50, was, an, American, football,...   \n",
       "4           249  [Super, Bowl, 50, was, an, American, football,...   \n",
       "\n",
       "                                     question_tokens  \n",
       "0  [Which, NFL, team, represented, the, AFC, at, ...  \n",
       "1  [Which, NFL, team, represented, the, AFC, at, ...  \n",
       "2  [Which, NFL, team, represented, the, AFC, at, ...  \n",
       "3  [Which, NFL, team, represented, the, NFC, at, ...  \n",
       "4  [Which, NFL, team, represented, the, NFC, at, ...  "
      ]
     },
     "execution_count": 8,
     "metadata": {},
     "output_type": "execute_result"
    }
   ],
   "source": [
    "dev_squad_df.head()"
   ]
  },
  {
   "cell_type": "code",
   "execution_count": 9,
   "metadata": {},
   "outputs": [
    {
     "name": "stdout",
     "output_type": "stream",
     "text": [
      "Size of training dataset after getting rid of data with context > 256: 83385\n",
      "Size of dev dataset after getting rid of data with context > 256: 32874\n"
     ]
    }
   ],
   "source": [
    "train_squad_df = train_squad_df[train_squad_df['context_tokens'].apply(lambda x: len(x) <= THRESHOLD_CONTEXT_LENGTH )]\n",
    "dev_squad_df = dev_squad_df[dev_squad_df['context_tokens'].apply(lambda x: len(x) <= THRESHOLD_CONTEXT_LENGTH )]\n",
    "\n",
    "print(f\"Size of training dataset after getting rid of data with context > {THRESHOLD_CONTEXT_LENGTH}: {len(train_squad_df)}\")\n",
    "print(f\"Size of dev dataset after getting rid of data with context > {THRESHOLD_CONTEXT_LENGTH}: {len(dev_squad_df)}\")"
   ]
  },
  {
   "cell_type": "code",
   "execution_count": 10,
   "metadata": {},
   "outputs": [
    {
     "name": "stdout",
     "output_type": "stream",
     "text": [
      "Size of training dataset after getting rid of data with question length > 256: 83383\n",
      "Size of dev dataset after getting rid of data with question length > 256: 32874\n"
     ]
    }
   ],
   "source": [
    "train_squad_df = train_squad_df[train_squad_df['question'].apply(lambda x: len(x) <= THRESHOLD_QUESTION_LENGTH )]\n",
    "dev_squad_df = dev_squad_df[dev_squad_df['question'].apply(lambda x: len(x) <= THRESHOLD_QUESTION_LENGTH )]\n",
    "\n",
    "print(f\"Size of training dataset after getting rid of data with question length > {THRESHOLD_QUESTION_LENGTH}: {len(train_squad_df)}\")\n",
    "print(f\"Size of dev dataset after getting rid of data with question length > {THRESHOLD_QUESTION_LENGTH}: {len(dev_squad_df)}\")"
   ]
  },
  {
   "cell_type": "code",
   "execution_count": 11,
   "metadata": {},
   "outputs": [],
   "source": [
    "# Find the answer start based on tokens\n",
    "def char_to_token_index(context, answer_start_char_index):\n",
    "    # Split the context into tokens using the same regex pattern\n",
    "    tokens = re.findall(r'\\w+|[^\\w\\s]', context)\n",
    "    \n",
    "    current_char_index = 0\n",
    "    for i, token in enumerate(tokens):\n",
    "        token_length = len(token)\n",
    "        # Check if the answer_start_char_index falls within the range of the current token\n",
    "        if current_char_index <= answer_start_char_index < current_char_index + token_length:\n",
    "            return i\n",
    "        # Update the current_char_index to the next token's start index\n",
    "        current_char_index += token_length\n",
    "        # If there is a space after the current token, increment the index\n",
    "        if context[current_char_index:current_char_index + 1] == ' ':\n",
    "            current_char_index += 1\n",
    "    \n",
    "    return -1  "
   ]
  },
  {
   "cell_type": "code",
   "execution_count": 12,
   "metadata": {},
   "outputs": [],
   "source": [
    "train_squad_df['answer_start_token_index'] = train_squad_df.apply(lambda row: char_to_token_index(row['context'], row['answer_start']), axis=1)\n",
    "dev_squad_df['answer_start_token_index'] = dev_squad_df.apply(lambda row: char_to_token_index(row['context'], row['answer_start']), axis=1)"
   ]
  },
  {
   "cell_type": "code",
   "execution_count": 13,
   "metadata": {},
   "outputs": [],
   "source": [
    "train_squad_df.drop(columns=['context_tokens','question_tokens'],inplace=True)\n",
    "dev_squad_df.drop(columns=['context_tokens','question_tokens'],inplace=True)"
   ]
  },
  {
   "cell_type": "code",
   "execution_count": 14,
   "metadata": {},
   "outputs": [
    {
     "data": {
      "text/html": [
       "<div>\n",
       "<style scoped>\n",
       "    .dataframe tbody tr th:only-of-type {\n",
       "        vertical-align: middle;\n",
       "    }\n",
       "\n",
       "    .dataframe tbody tr th {\n",
       "        vertical-align: top;\n",
       "    }\n",
       "\n",
       "    .dataframe thead th {\n",
       "        text-align: right;\n",
       "    }\n",
       "</style>\n",
       "<table border=\"1\" class=\"dataframe\">\n",
       "  <thead>\n",
       "    <tr style=\"text-align: right;\">\n",
       "      <th></th>\n",
       "      <th>id</th>\n",
       "      <th>context</th>\n",
       "      <th>question</th>\n",
       "      <th>answer_text</th>\n",
       "      <th>answer_start</th>\n",
       "      <th>answer_start_token_index</th>\n",
       "    </tr>\n",
       "  </thead>\n",
       "  <tbody>\n",
       "    <tr>\n",
       "      <th>0</th>\n",
       "      <td>5733be284776f41900661182</td>\n",
       "      <td>Architecturally, the school has a Catholic cha...</td>\n",
       "      <td>To whom did the Virgin Mary allegedly appear i...</td>\n",
       "      <td>Saint Bernadette Soubirous</td>\n",
       "      <td>515</td>\n",
       "      <td>103</td>\n",
       "    </tr>\n",
       "    <tr>\n",
       "      <th>1</th>\n",
       "      <td>5733be284776f4190066117f</td>\n",
       "      <td>Architecturally, the school has a Catholic cha...</td>\n",
       "      <td>What is in front of the Notre Dame Main Building?</td>\n",
       "      <td>a copper statue of Christ</td>\n",
       "      <td>188</td>\n",
       "      <td>38</td>\n",
       "    </tr>\n",
       "    <tr>\n",
       "      <th>2</th>\n",
       "      <td>5733be284776f41900661180</td>\n",
       "      <td>Architecturally, the school has a Catholic cha...</td>\n",
       "      <td>The Basilica of the Sacred heart at Notre Dame...</td>\n",
       "      <td>the Main Building</td>\n",
       "      <td>279</td>\n",
       "      <td>58</td>\n",
       "    </tr>\n",
       "    <tr>\n",
       "      <th>3</th>\n",
       "      <td>5733be284776f41900661181</td>\n",
       "      <td>Architecturally, the school has a Catholic cha...</td>\n",
       "      <td>What is the Grotto at Notre Dame?</td>\n",
       "      <td>a Marian place of prayer and reflection</td>\n",
       "      <td>381</td>\n",
       "      <td>77</td>\n",
       "    </tr>\n",
       "    <tr>\n",
       "      <th>4</th>\n",
       "      <td>5733be284776f4190066117e</td>\n",
       "      <td>Architecturally, the school has a Catholic cha...</td>\n",
       "      <td>What sits on top of the Main Building at Notre...</td>\n",
       "      <td>a golden statue of the Virgin Mary</td>\n",
       "      <td>92</td>\n",
       "      <td>18</td>\n",
       "    </tr>\n",
       "  </tbody>\n",
       "</table>\n",
       "</div>"
      ],
      "text/plain": [
       "                         id  \\\n",
       "0  5733be284776f41900661182   \n",
       "1  5733be284776f4190066117f   \n",
       "2  5733be284776f41900661180   \n",
       "3  5733be284776f41900661181   \n",
       "4  5733be284776f4190066117e   \n",
       "\n",
       "                                             context  \\\n",
       "0  Architecturally, the school has a Catholic cha...   \n",
       "1  Architecturally, the school has a Catholic cha...   \n",
       "2  Architecturally, the school has a Catholic cha...   \n",
       "3  Architecturally, the school has a Catholic cha...   \n",
       "4  Architecturally, the school has a Catholic cha...   \n",
       "\n",
       "                                            question  \\\n",
       "0  To whom did the Virgin Mary allegedly appear i...   \n",
       "1  What is in front of the Notre Dame Main Building?   \n",
       "2  The Basilica of the Sacred heart at Notre Dame...   \n",
       "3                  What is the Grotto at Notre Dame?   \n",
       "4  What sits on top of the Main Building at Notre...   \n",
       "\n",
       "                               answer_text  answer_start  \\\n",
       "0               Saint Bernadette Soubirous           515   \n",
       "1                a copper statue of Christ           188   \n",
       "2                        the Main Building           279   \n",
       "3  a Marian place of prayer and reflection           381   \n",
       "4       a golden statue of the Virgin Mary            92   \n",
       "\n",
       "   answer_start_token_index  \n",
       "0                       103  \n",
       "1                        38  \n",
       "2                        58  \n",
       "3                        77  \n",
       "4                        18  "
      ]
     },
     "execution_count": 14,
     "metadata": {},
     "output_type": "execute_result"
    }
   ],
   "source": [
    "train_squad_df.head()"
   ]
  },
  {
   "cell_type": "code",
   "execution_count": 15,
   "metadata": {},
   "outputs": [
    {
     "data": {
      "text/html": [
       "<div>\n",
       "<style scoped>\n",
       "    .dataframe tbody tr th:only-of-type {\n",
       "        vertical-align: middle;\n",
       "    }\n",
       "\n",
       "    .dataframe tbody tr th {\n",
       "        vertical-align: top;\n",
       "    }\n",
       "\n",
       "    .dataframe thead th {\n",
       "        text-align: right;\n",
       "    }\n",
       "</style>\n",
       "<table border=\"1\" class=\"dataframe\">\n",
       "  <thead>\n",
       "    <tr style=\"text-align: right;\">\n",
       "      <th></th>\n",
       "      <th>id</th>\n",
       "      <th>context</th>\n",
       "      <th>question</th>\n",
       "      <th>answer_text</th>\n",
       "      <th>answer_start</th>\n",
       "      <th>answer_start_token_index</th>\n",
       "    </tr>\n",
       "  </thead>\n",
       "  <tbody>\n",
       "    <tr>\n",
       "      <th>0</th>\n",
       "      <td>56be4db0acb8001400a502ec</td>\n",
       "      <td>Super Bowl 50 was an American football game to...</td>\n",
       "      <td>Which NFL team represented the AFC at Super Bo...</td>\n",
       "      <td>Denver Broncos</td>\n",
       "      <td>177</td>\n",
       "      <td>33</td>\n",
       "    </tr>\n",
       "    <tr>\n",
       "      <th>1</th>\n",
       "      <td>56be4db0acb8001400a502ec</td>\n",
       "      <td>Super Bowl 50 was an American football game to...</td>\n",
       "      <td>Which NFL team represented the AFC at Super Bo...</td>\n",
       "      <td>Denver Broncos</td>\n",
       "      <td>177</td>\n",
       "      <td>33</td>\n",
       "    </tr>\n",
       "    <tr>\n",
       "      <th>2</th>\n",
       "      <td>56be4db0acb8001400a502ec</td>\n",
       "      <td>Super Bowl 50 was an American football game to...</td>\n",
       "      <td>Which NFL team represented the AFC at Super Bo...</td>\n",
       "      <td>Denver Broncos</td>\n",
       "      <td>177</td>\n",
       "      <td>33</td>\n",
       "    </tr>\n",
       "    <tr>\n",
       "      <th>3</th>\n",
       "      <td>56be4db0acb8001400a502ed</td>\n",
       "      <td>Super Bowl 50 was an American football game to...</td>\n",
       "      <td>Which NFL team represented the NFC at Super Bo...</td>\n",
       "      <td>Carolina Panthers</td>\n",
       "      <td>249</td>\n",
       "      <td>44</td>\n",
       "    </tr>\n",
       "    <tr>\n",
       "      <th>4</th>\n",
       "      <td>56be4db0acb8001400a502ed</td>\n",
       "      <td>Super Bowl 50 was an American football game to...</td>\n",
       "      <td>Which NFL team represented the NFC at Super Bo...</td>\n",
       "      <td>Carolina Panthers</td>\n",
       "      <td>249</td>\n",
       "      <td>44</td>\n",
       "    </tr>\n",
       "  </tbody>\n",
       "</table>\n",
       "</div>"
      ],
      "text/plain": [
       "                         id  \\\n",
       "0  56be4db0acb8001400a502ec   \n",
       "1  56be4db0acb8001400a502ec   \n",
       "2  56be4db0acb8001400a502ec   \n",
       "3  56be4db0acb8001400a502ed   \n",
       "4  56be4db0acb8001400a502ed   \n",
       "\n",
       "                                             context  \\\n",
       "0  Super Bowl 50 was an American football game to...   \n",
       "1  Super Bowl 50 was an American football game to...   \n",
       "2  Super Bowl 50 was an American football game to...   \n",
       "3  Super Bowl 50 was an American football game to...   \n",
       "4  Super Bowl 50 was an American football game to...   \n",
       "\n",
       "                                            question        answer_text  \\\n",
       "0  Which NFL team represented the AFC at Super Bo...     Denver Broncos   \n",
       "1  Which NFL team represented the AFC at Super Bo...     Denver Broncos   \n",
       "2  Which NFL team represented the AFC at Super Bo...     Denver Broncos   \n",
       "3  Which NFL team represented the NFC at Super Bo...  Carolina Panthers   \n",
       "4  Which NFL team represented the NFC at Super Bo...  Carolina Panthers   \n",
       "\n",
       "   answer_start  answer_start_token_index  \n",
       "0           177                        33  \n",
       "1           177                        33  \n",
       "2           177                        33  \n",
       "3           249                        44  \n",
       "4           249                        44  "
      ]
     },
     "execution_count": 15,
     "metadata": {},
     "output_type": "execute_result"
    }
   ],
   "source": [
    "dev_squad_df.head()"
   ]
  },
  {
   "cell_type": "markdown",
   "metadata": {},
   "source": [
    "# Tokenization"
   ]
  },
  {
   "cell_type": "code",
   "execution_count": 16,
   "metadata": {},
   "outputs": [
    {
     "name": "stdout",
     "output_type": "stream",
     "text": [
      "super bowl 50 was an american football game to determine the champion of the national football league (nfl) for the 2015 season. the american football conference (afc) champion denver broncos defeated the national football conference (nfc) champion carolina panthers 24–10 to earn their third super bowl title. the game was played on february 7, 2016, at levi's stadium in the san francisco bay area at santa clara, california. as this was the 50th super bowl, the league emphasized the \"golden anniversary\" with various gold-themed initiatives, as well as temporarily suspending the tradition of naming each super bowl game with roman numerals (under which the game would have been known as \"super bowl l\"), so that the logo could prominently feature the arabic numerals 50. which nfl team represented the afc at super bowl 50? denver broncos super bowl 50 was an american football game to determine the champion of the national football league (nfl) for the 2015 season. the american football confe\n",
      "Size of entire corpus: 92829412\n"
     ]
    }
   ],
   "source": [
    "corpus_series_train = (train_squad_df['context'] + ' ' + train_squad_df['question'] + ' ' + train_squad_df['answer_text']).str.lower()\n",
    "single_corpus_train = ' '.join(corpus_series_train.tolist())\n",
    "single_corpus_train = ' '.join(single_corpus_train.split())\n",
    "\n",
    "corpus_series_dev = (dev_squad_df['context'] + ' ' + dev_squad_df['question'] + ' ' + dev_squad_df['answer_text']).str.lower()\n",
    "single_corpus_dev = ' '.join(corpus_series_dev.tolist())\n",
    "single_corpus_dev = ' '.join(single_corpus_dev.split())\n",
    "\n",
    "single_corpus = single_corpus_dev+single_corpus_train\n",
    "\n",
    "print(single_corpus[:1000])\n",
    "print(f'Size of entire corpus: {len(single_corpus)}')"
   ]
  },
  {
   "cell_type": "code",
   "execution_count": 17,
   "metadata": {},
   "outputs": [],
   "source": [
    "def tokenize_corpus(corpus):\n",
    "    \n",
    "    # Regex pattern for word tokenization, keeping punctuations separate\n",
    "    pattern = r'\\w+|[^\\w\\s]'\n",
    "    \n",
    "    # Find all matches of the pattern\n",
    "    tokens = re.findall(pattern, corpus)\n",
    "    \n",
    "    return tokens\n",
    "\n",
    "tokens = tokenize_corpus(single_corpus)"
   ]
  },
  {
   "cell_type": "code",
   "execution_count": 18,
   "metadata": {},
   "outputs": [
    {
     "data": {
      "text/plain": [
       "83297"
      ]
     },
     "execution_count": 18,
     "metadata": {},
     "output_type": "execute_result"
    }
   ],
   "source": [
    "# Convert tokens to set.\n",
    "setTokens = set(tokens)\n",
    "setTokens = list(setTokens)\n",
    "len(setTokens)"
   ]
  },
  {
   "cell_type": "code",
   "execution_count": 19,
   "metadata": {},
   "outputs": [
    {
     "name": "stdout",
     "output_type": "stream",
     "text": [
      "Vocab size after non-glove tokens are removed and unknown and padding token are added: 69980\n"
     ]
    }
   ],
   "source": [
    "# Remove all the tokens not in glove embeddings\n",
    "\n",
    "# Store all glove words.\n",
    "glove_words = []\n",
    "# Iterate through file storing glove words.\n",
    "f = open(GLOVE_FILEPATH, encoding=\"utf-8\")\n",
    "for line in f:\n",
    "  values = line.strip().split(' ')\n",
    "  word = values[0]\n",
    "  glove_words.append(word)\n",
    "f.close()\n",
    "\n",
    "# Iterate over setTokens and remove tokens not in glove.\n",
    "for token in setTokens:\n",
    "  if token not in glove_words:\n",
    "    setTokens.remove(token)\n",
    "\n",
    "# We assign index 0 for padding token and 1 for unknown token.\n",
    "setTokens[0] = '<PAD>'\n",
    "setTokens[1] = '<UNK>'\n",
    "\n",
    "print(f'Vocab size after non-glove tokens are removed and unknown and padding token are added: {len(setTokens)}')"
   ]
  },
  {
   "cell_type": "code",
   "execution_count": 20,
   "metadata": {},
   "outputs": [
    {
     "data": {
      "text/plain": [
       "(69980, 69980)"
      ]
     },
     "execution_count": 20,
     "metadata": {},
     "output_type": "execute_result"
    }
   ],
   "source": [
    "# Create tokentoidx and idxtotoken dictionary \n",
    "token2idx = {}\n",
    "for idx,word in enumerate(setTokens):\n",
    "    token2idx.update({word:idx}) \n",
    "\n",
    "idx2token = {v:k for k,v in token2idx.items()}\n",
    "\n",
    "len(token2idx), len(idx2token)"
   ]
  },
  {
   "cell_type": "markdown",
   "metadata": {},
   "source": [
    "# Create Embedding Matrix"
   ]
  },
  {
   "cell_type": "code",
   "execution_count": 21,
   "metadata": {},
   "outputs": [],
   "source": [
    "import torch\n",
    "import torch.nn as nn\n",
    "import numpy as np\n",
    "import pickle"
   ]
  },
  {
   "cell_type": "code",
   "execution_count": 22,
   "metadata": {},
   "outputs": [],
   "source": [
    "# Create Embedding matrix\n",
    "embedding = nn.Embedding(len(token2idx),EMBEDDING_DIM)\n",
    "for params in embedding.parameters():\n",
    "    params.requires_grad = False"
   ]
  },
  {
   "cell_type": "code",
   "execution_count": 23,
   "metadata": {},
   "outputs": [],
   "source": [
    "# Set padding and unknown embeddings.\n",
    "\n",
    "# Set 0'th index as padding\n",
    "embedding.weight[0] = torch.zeros((EMBEDDING_DIM))\n",
    "# Set 1st index and unknown weight of glove\n",
    "with open(GLOVE_FILEPATH) as f:\n",
    "    for line in f:\n",
    "        values = line.strip().split(' ')\n",
    "unknown_vec = np.asarray(values[1:], dtype='float32')\n",
    "unknown_vec = torch.from_numpy(unknown_vec)\n",
    "embedding.weight[1] = unknown_vec"
   ]
  },
  {
   "cell_type": "code",
   "execution_count": 24,
   "metadata": {},
   "outputs": [],
   "source": [
    "# Create final embedding matrix.\n",
    "with open(GLOVE_FILEPATH) as f:\n",
    "    count = 0\n",
    "    for line in f:\n",
    "        values = line.strip().split(' ')\n",
    "        word = values[0]\n",
    "        vec = np.asarray(values[1:], dtype='float32')\n",
    "        vec = torch.from_numpy(vec)\n",
    "        if word in token2idx:\n",
    "            idx = token2idx[word]\n",
    "            embedding.weight[idx] = vec\n",
    "            count+=1"
   ]
  },
  {
   "cell_type": "code",
   "execution_count": 25,
   "metadata": {},
   "outputs": [],
   "source": [
    "torch.save(embedding.state_dict(),f'squad-assets/squad.glove.6B.{EMBEDDING_DIM}d.pt')\n",
    "# Save idxtotoken and tokentoidx\n",
    "with open('squad-assets/token2idx.pkl', 'wb') as file:\n",
    "    pickle.dump(token2idx, file)\n",
    "with open('squad-assets/idx2token.pkl', 'wb') as file:\n",
    "    pickle.dump(idx2token, file)"
   ]
  },
  {
   "cell_type": "code",
   "execution_count": 26,
   "metadata": {},
   "outputs": [],
   "source": [
    "train_squad_df.to_csv('squad-assets/train_data.csv')\n",
    "dev_squad_df.to_csv('squad-assets/dev_data.csv')"
   ]
  }
 ],
 "metadata": {
  "kernelspec": {
   "display_name": "pytorch",
   "language": "python",
   "name": "python3"
  },
  "language_info": {
   "codemirror_mode": {
    "name": "ipython",
    "version": 3
   },
   "file_extension": ".py",
   "mimetype": "text/x-python",
   "name": "python",
   "nbconvert_exporter": "python",
   "pygments_lexer": "ipython3",
   "version": "3.10.13"
  },
  "orig_nbformat": 4
 },
 "nbformat": 4,
 "nbformat_minor": 2
}
